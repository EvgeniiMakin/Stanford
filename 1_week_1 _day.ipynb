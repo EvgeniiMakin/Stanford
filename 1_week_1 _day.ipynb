{
 "cells": [
  {
   "cell_type": "markdown",
   "metadata": {},
   "source": [
    "Two definitions of Machine Learning are offered. \n",
    "\n",
    "* Arthur Samuel described it as: \"the field of study that gives computers the ability to learn without being explicitly programmed.\" This is an older, informal definition.\n",
    "\n",
    "* Tom Mitchell provides a more modern definition: \"A computer program is said to learn from experience E with respect to some class of tasks T and performance measure P, if its performance at tasks in T, as measured by P, improves with experience E.\"\n",
    "\n",
    "Example: playing checkers.\n",
    "\n",
    "E = the experience of playing many games of checkers\n",
    "\n",
    "T = the task of playing checkers.\n",
    "\n",
    "P = the probability that the program will win the next game.\n",
    "\n",
    "Предлагаются два определения машинного обучения. \n",
    "\n",
    "* Артур Самуэль описал это как «поле обучения, которое дает компьютерам возможность учиться, не будучи явно запрограммированным». Это более старое, неформальное определение.\n",
    "\n",
    "* Том Митчелл предлагает более современное определение: «Говорят, что компьютерная программа учится на опыте E по отношению к некоторому классу задач T и показателю производительности P, если его производительность при задачах в T, измеряемая P, улучшается с опытом E. \"\n",
    "\n",
    "Пример: игра в шашки.\n",
    "\n",
    "E = опыт игры во многие игры шашек\n",
    "\n",
    "T = задача игры в шашки.\n",
    "\n",
    "P = вероятность того, что программа выиграет следующую игру."
   ]
  },
  {
   "cell_type": "markdown",
   "metadata": {},
   "source": [
    "\n",
    "Supervised Learning\n",
    "In supervised learning, we are given a data set and already know what our correct output should look like, having the idea that there is a relationship between the input and the output.\n",
    "\n",
    "Supervised learning problems are categorized into \"regression\" and \"classification\" problems. In a regression problem, we are trying to predict results within a continuous output, meaning that we are trying to map input variables to some continuous function. In a classification problem, we are instead trying to predict results in a discrete output. In other words, we are trying to map input variables into discrete categories.\n",
    "\n",
    "Example 1:\n",
    "\n",
    "Given data about the size of houses on the real estate market, try to predict their price. Price as a function of size is a continuous output, so this is a regression problem.\n",
    "\n",
    "We could turn this example into a classification problem by instead making our output about whether the house \"sells for more or less than the asking price.\" Here we are classifying the houses based on price into two discrete categories.\n",
    "\n",
    "Example 2:\n",
    "\n",
    "(a) Regression - Given a picture of a person, we have to predict their age on the basis of the given picture\n",
    "\n",
    "(b) Classification - Given a patient with a tumor, we have to predict whether the tumor is malignant or benign.\n",
    "\n",
    "\n",
    "Обучаемое обучение\n",
    "В контролируемом обучении нам предоставляется набор данных и уже известно, как должен выглядеть наш правильный вывод, имея представление о том, что между входом и выходом существует взаимосвязь.\n",
    "\n",
    "Контролируемые проблемы обучения подразделяются на проблемы «регрессии» и «классификации». В задаче регрессии мы пытаемся предсказать результаты в непрерывном выпуске, что означает, что мы пытаемся сопоставить входные переменные с некоторой непрерывной функцией. В проблеме классификации мы вместо этого пытаемся предсказать результаты в дискретном выходе. Другими словами, мы пытаемся отобразить входные переменные в дискретные категории.\n",
    "\n",
    "Пример 1:\n",
    "\n",
    "Учитывая данные о размерах домов на рынке недвижимости, попробуйте предсказать их цену. Цена как функция размера - это непрерывный выход, поэтому это проблема регрессии.\n",
    "\n",
    "Мы могли бы превратить этот пример в проблему классификации, вместо этого сделав наш вывод о том, продает ли дом больше или меньше запрашиваемой цены. Здесь мы классифицируем дома по цене на две дискретные категории.\n",
    "\n",
    "Пример 2:\n",
    "\n",
    "(a) Регрессия. Учитывая картину человека, мы должны предсказать их возраст на основе данной картины\n",
    "\n",
    "(b) Классификация. Учитывая пациента с опухолью, мы должны предсказать, является ли опухоль злокачественной или доброкачественной."
   ]
  },
  {
   "cell_type": "markdown",
   "metadata": {},
   "source": [
    "Unsupervised Learning  \n",
    "Unsupervised learning allows us to approach problems with little or no idea what our results should look like. We can derive structure from data where we don't necessarily know the effect of the variables.\n",
    "\n",
    "We can derive this structure by clustering the data based on relationships among the variables in the data.\n",
    "\n",
    "With unsupervised learning there is no feedback based on the prediction results.\n",
    "\n",
    "Example:\n",
    "\n",
    "Clustering: Take a collection of 1,000,000 different genes, and find a way to automatically group these genes into groups that are somehow similar or related by different variables, such as lifespan, location, roles, and so on.\n",
    "\n",
    "Non-clustering: The \"Cocktail Party Algorithm\", allows you to find structure in a chaotic environment. (i.e. identifying individual voices and music from a mesh of sounds at a cocktail party).\n",
    "\n",
    "Неконтролируемое обучение  \n",
    "Неконтролируемое обучение позволяет нам приблизиться к проблемам, которые мало или вообще не представляют, как выглядят наши результаты. Мы можем получить структуру из данных, где мы не обязательно знаем влияние переменных.\n",
    "\n",
    "Мы можем получить эту структуру, объединив данные на основе отношений между переменными в данных.\n",
    "\n",
    "При неконтролируемом обучении нет обратной связи, основанной на результатах прогнозирования.\n",
    "\n",
    "Пример:\n",
    "\n",
    "Кластеризация: возьмите коллекцию из 1 000 000 различных генов и найдите способ автоматически группировать эти гены в группы, которые каким-то образом похожи или связаны разными переменными, такими как продолжительность жизни, местоположение, роли и т. Д.\n",
    "\n",
    "Некластеризация: «Алгоритм коктейльной партии» позволяет находить структуру в хаотической среде. (то есть идентификация отдельных голосов и музыки из сетки звуков на коктейльной вечеринке)."
   ]
  },
  {
   "cell_type": "markdown",
   "metadata": {},
   "source": [
    "https://en.wikipedia.org/wiki/Cocktail_party_effect"
   ]
  },
  {
   "cell_type": "markdown",
   "metadata": {},
   "source": [
    "### using Octave/Matlab"
   ]
  }
 ],
 "metadata": {
  "kernelspec": {
   "display_name": "Python 3",
   "language": "python",
   "name": "python3"
  },
  "language_info": {
   "codemirror_mode": {
    "name": "ipython",
    "version": 3
   },
   "file_extension": ".py",
   "mimetype": "text/x-python",
   "name": "python",
   "nbconvert_exporter": "python",
   "pygments_lexer": "ipython3",
   "version": "3.6.1"
  }
 },
 "nbformat": 4,
 "nbformat_minor": 2
}

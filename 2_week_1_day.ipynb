{
 "cells": [
  {
   "cell_type": "markdown",
   "metadata": {},
   "source": [
    "## Installing Octave on GNU/Linux\n",
    "We recommend using your system package manager to install Octave.\n",
    "\n",
    "* On Ubuntu, you can use:\n",
    "\n",
    "sudo apt-get update && sudo apt-get install octave"
   ]
  },
  {
   "cell_type": "markdown",
   "metadata": {},
   "source": [
    "## Multivariate Linear Regression"
   ]
  },
  {
   "cell_type": "markdown",
   "metadata": {},
   "source": [
    "* ###  Multiple Features\n",
    "https://www.coursera.org/learn/machine-learning/supplement/WKgbA/multiple-features\n",
    "* ### Gradient Descent For Multiple Variables\n",
    "https://www.coursera.org/learn/machine-learning/supplement/aEN5G/gradient-descent-for-multiple-variables\n",
    "* ### Gradient Descent in Practice I - Feature Scaling\n",
    "https://www.coursera.org/learn/machine-learning/supplement/CTA0D/gradient-descent-in-practice-i-feature-scaling\n",
    "* ### Gradient Descent in Practice II - Learning Rate\n",
    "https://www.coursera.org/learn/machine-learning/supplement/TnHvV/gradient-descent-in-practice-ii-learning-rate\n",
    "* ### Features and Polynomial Regression\n",
    "https://www.coursera.org/learn/machine-learning/supplement/ITznZ/features-and-polynomial-regression"
   ]
  }
 ],
 "metadata": {
  "kernelspec": {
   "display_name": "Python 3",
   "language": "python",
   "name": "python3"
  },
  "language_info": {
   "codemirror_mode": {
    "name": "ipython",
    "version": 3
   },
   "file_extension": ".py",
   "mimetype": "text/x-python",
   "name": "python",
   "nbconvert_exporter": "python",
   "pygments_lexer": "ipython3",
   "version": "3.6.1"
  }
 },
 "nbformat": 4,
 "nbformat_minor": 2
}

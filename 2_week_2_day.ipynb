{
 "cells": [
  {
   "cell_type": "markdown",
   "metadata": {},
   "source": [
    "* ## Normal Equation\n",
    "https://www.coursera.org/learn/machine-learning/supplement/bjjZW/normal-equation\n",
    "* ## Normal Equation Noninvertibility\n",
    "https://www.coursera.org/learn/machine-learning/supplement/66bi5/normal-equation-noninvertibility"
   ]
  },
  {
   "cell_type": "markdown",
   "metadata": {},
   "source": [
    "## Octave/Matlab Tutorial\n",
    "* https://www.coursera.org/learn/machine-learning/lecture/9fHfl/basic-operations\n",
    "* https://www.coursera.org/learn/machine-learning/lecture/SZJIc/moving-data-around\n",
    "* https://www.coursera.org/learn/machine-learning/lecture/Y6uuC/computing-on-data\n",
    "* https://www.coursera.org/learn/machine-learning/lecture/I7gx3/plotting-data\n",
    "* https://www.coursera.org/learn/machine-learning/lecture/LRQnl/control-statements-for-while-if-statement\n",
    "* https://www.coursera.org/learn/machine-learning/lecture/WnQWH/vectorization"
   ]
  }
 ],
 "metadata": {
  "kernelspec": {
   "display_name": "Python 3",
   "language": "python",
   "name": "python3"
  },
  "language_info": {
   "codemirror_mode": {
    "name": "ipython",
    "version": 3
   },
   "file_extension": ".py",
   "mimetype": "text/x-python",
   "name": "python",
   "nbconvert_exporter": "python",
   "pygments_lexer": "ipython3",
   "version": "3.6.1"
  }
 },
 "nbformat": 4,
 "nbformat_minor": 2
}

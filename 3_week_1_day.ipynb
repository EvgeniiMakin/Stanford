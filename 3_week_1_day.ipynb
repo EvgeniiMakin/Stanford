{
 "cells": [
  {
   "cell_type": "markdown",
   "metadata": {},
   "source": [
    "## Classification and Representation\n",
    "* ###  Classification\n",
    "https://www.coursera.org/learn/machine-learning/supplement/fDCQp/classification\n",
    "* ### Hypothesis Representation\n",
    "https://www.coursera.org/learn/machine-learning/supplement/AqSH6/hypothesis-representation\n",
    "* ### Decision Boundary\n",
    "https://www.coursera.org/learn/machine-learning/supplement/N8qsm/decision-boundary\n",
    "\n",
    "## Logistic Regression Model\n",
    "* ### Cost Function\n",
    "https://www.coursera.org/learn/machine-learning/supplement/bgEt4/cost-function\n",
    "* ### Simplified Cost Function and Gradient Descent\n",
    "https://www.coursera.org/learn/machine-learning/supplement/0hpMl/simplified-cost-function-and-gradient-descent\n",
    "* ### Advanced Optimization\n",
    "https://www.coursera.org/learn/machine-learning/supplement/cmjIc/advanced-optimization (\"Conjugate gradient\", \"BFGS\", and \"L-BFGS\" - метод сопряженных градиентов, алгоритм Бройдена — Флетчера — Гольдфарба — Шанно (BFGS) и его модификация с ограниченным использованием памяти (L-BFGS) - это примеры более сложных алгоритмов оптимизации)\n",
    "\n",
    "## Multiclass Classification\n",
    "* ### Multiclass Classification: One-vs-all\n",
    "https://www.coursera.org/learn/machine-learning/supplement/HuE6M/multiclass-classification-one-vs-all"
   ]
  }
 ],
 "metadata": {
  "kernelspec": {
   "display_name": "Python 3",
   "language": "python",
   "name": "python3"
  },
  "language_info": {
   "codemirror_mode": {
    "name": "ipython",
    "version": 3
   },
   "file_extension": ".py",
   "mimetype": "text/x-python",
   "name": "python",
   "nbconvert_exporter": "python",
   "pygments_lexer": "ipython3",
   "version": "3.6.1"
  }
 },
 "nbformat": 4,
 "nbformat_minor": 2
}

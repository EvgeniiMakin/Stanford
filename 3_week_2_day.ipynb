{
 "cells": [
  {
   "cell_type": "markdown",
   "metadata": {},
   "source": [
    "## Solving the Problem of Overfitting\n",
    "* ### The Problem of Overfitting\n",
    "https://www.coursera.org/learn/machine-learning/supplement/VTe37/the-problem-of-overfitting\n",
    "* ### Cost Function\n",
    "https://www.coursera.org/learn/machine-learning/supplement/1tJlY/cost-function\n",
    "* ### Regularized Linear Regression\n",
    "https://www.coursera.org/learn/machine-learning/supplement/pKAsc/regularized-linear-regression\n",
    "* ### Regularized Logistic Regression\n",
    "https://www.coursera.org/learn/machine-learning/supplement/v51eg/regularized-logistic-regression"
   ]
  }
 ],
 "metadata": {
  "kernelspec": {
   "display_name": "Python 3",
   "language": "python",
   "name": "python3"
  },
  "language_info": {
   "codemirror_mode": {
    "name": "ipython",
    "version": 3
   },
   "file_extension": ".py",
   "mimetype": "text/x-python",
   "name": "python",
   "nbconvert_exporter": "python",
   "pygments_lexer": "ipython3",
   "version": "3.6.1"
  }
 },
 "nbformat": 4,
 "nbformat_minor": 2
}

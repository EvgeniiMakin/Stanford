{
 "cells": [
  {
   "cell_type": "markdown",
   "metadata": {},
   "source": [
    "* ## Evaluating a Hypothesis\n",
    "https://www.coursera.org/learn/machine-learning/supplement/aFpD3/evaluating-a-hypothesis\n",
    "* ## Model Selection and Train/Validation/Test Sets\n",
    "https://www.coursera.org/learn/machine-learning/supplement/XHQqO/model-selection-and-train-validation-test-sets"
   ]
  },
  {
   "cell_type": "markdown",
   "metadata": {},
   "source": [
    "* ## Diagnosing Bias vs. Variance\n",
    "https://www.coursera.org/learn/machine-learning/supplement/81vp0/diagnosing-bias-vs-variance\n",
    "* ## Regularization and Bias/Variance\n",
    "https://www.coursera.org/learn/machine-learning/supplement/JPJJj/regularization-and-bias-variance\n",
    "* ## Learning Curves\n",
    "https://www.coursera.org/learn/machine-learning/supplement/79woL/learning-curves\n",
    "* ## Deciding What to Do Next Revisited\n",
    "https://www.coursera.org/learn/machine-learning/supplement/llc5g/deciding-what-to-do-next-revisited"
   ]
  }
 ],
 "metadata": {
  "kernelspec": {
   "display_name": "Python 3",
   "language": "python",
   "name": "python3"
  },
  "language_info": {
   "codemirror_mode": {
    "name": "ipython",
    "version": 3
   },
   "file_extension": ".py",
   "mimetype": "text/x-python",
   "name": "python",
   "nbconvert_exporter": "python",
   "pygments_lexer": "ipython3",
   "version": "3.7.0"
  }
 },
 "nbformat": 4,
 "nbformat_minor": 2
}

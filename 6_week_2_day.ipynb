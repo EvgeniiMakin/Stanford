{
 "cells": [
  {
   "cell_type": "markdown",
   "metadata": {},
   "source": [
    "* ## Prioritizing What to Work On\n",
    "https://www.coursera.org/learn/machine-learning/supplement/0uu7a/prioritizing-what-to-work-on\n",
    "* ## Error Analysis\n",
    "https://www.coursera.org/learn/machine-learning/supplement/Z11RP/error-analysis"
   ]
  }
 ],
 "metadata": {
  "kernelspec": {
   "display_name": "Python 3",
   "language": "python",
   "name": "python3"
  },
  "language_info": {
   "codemirror_mode": {
    "name": "ipython",
    "version": 3
   },
   "file_extension": ".py",
   "mimetype": "text/x-python",
   "name": "python",
   "nbconvert_exporter": "python",
   "pygments_lexer": "ipython3",
   "version": "3.7.0"
  }
 },
 "nbformat": 4,
 "nbformat_minor": 2
}
